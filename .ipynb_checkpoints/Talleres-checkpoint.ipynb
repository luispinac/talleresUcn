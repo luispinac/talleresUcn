{
 "cells": [
  {
   "cell_type": "code",
   "execution_count": 36,
   "metadata": {},
   "outputs": [],
   "source": [
    "import ipywidgets as widgets\n",
    "from ipywidgets import interact, interactive, fixed, interact_manual\n",
    "import pandas as pd"
   ]
  },
  {
   "cell_type": "code",
   "execution_count": 8,
   "metadata": {},
   "outputs": [
    {
     "data": {
      "application/vnd.jupyter.widget-view+json": {
       "model_id": "f94dfa1ebdf44e2e9abafa33f8902ce5",
       "version_major": 2,
       "version_minor": 0
      },
      "text/plain": [
       "Text(value='Ej: 20145753-3', description='Rut alumno 1:', placeholder='Type something')"
      ]
     },
     "metadata": {},
     "output_type": "display_data"
    }
   ],
   "source": [
    "widgets.Text(\n",
    "    value='Ej: 20145753-3',\n",
    "    placeholder='Type something',\n",
    "    description='Rut alumno 1:',\n",
    "    disabled=False\n",
    ")"
   ]
  },
  {
   "cell_type": "code",
   "execution_count": 20,
   "metadata": {},
   "outputs": [
    {
     "data": {
      "application/vnd.jupyter.widget-view+json": {
       "model_id": "0a1db7e526a141619a149ac6c8f19e24",
       "version_major": 2,
       "version_minor": 0
      },
      "text/plain": [
       "Box(children=(Label(value='Rut alumno 1:'), Text(value='', placeholder='Ej: 20145753-3')))"
      ]
     },
     "metadata": {},
     "output_type": "display_data"
    },
    {
     "data": {
      "application/vnd.jupyter.widget-view+json": {
       "model_id": "e348c5800e90478fb7837b007a6e267d",
       "version_major": 2,
       "version_minor": 0
      },
      "text/plain": [
       "Box(children=(Label(value='Rut alumno 2:'), Text(value='', placeholder='Ej: 20145753-3')))"
      ]
     },
     "metadata": {},
     "output_type": "display_data"
    },
    {
     "ename": "TypeError",
     "evalue": "'Box' object is not subscriptable",
     "output_type": "error",
     "traceback": [
      "\u001b[1;31m---------------------------------------------------------------------------\u001b[0m",
      "\u001b[1;31mTypeError\u001b[0m                                 Traceback (most recent call last)",
      "\u001b[1;32m<ipython-input-20-87f7e84c4394>\u001b[0m in \u001b[0;36m<module>\u001b[1;34m\u001b[0m\n\u001b[0;32m     26\u001b[0m \u001b[0mdisplay\u001b[0m\u001b[1;33m(\u001b[0m\u001b[0ma\u001b[0m\u001b[1;33m,\u001b[0m\u001b[0mb\u001b[0m\u001b[1;33m)\u001b[0m\u001b[1;33m\u001b[0m\u001b[1;33m\u001b[0m\u001b[0m\n\u001b[0;32m     27\u001b[0m \u001b[1;33m\u001b[0m\u001b[0m\n\u001b[1;32m---> 28\u001b[1;33m \u001b[0minteract\u001b[0m\u001b[1;33m(\u001b[0m\u001b[0mh\u001b[0m\u001b[1;33m,\u001b[0m \u001b[0mp\u001b[0m\u001b[1;33m=\u001b[0m\u001b[1;36m5\u001b[0m\u001b[1;33m,\u001b[0m \u001b[0mq\u001b[0m \u001b[1;33m=\u001b[0m \u001b[0mb\u001b[0m\u001b[1;33m[\u001b[0m\u001b[1;36m1\u001b[0m\u001b[1;33m]\u001b[0m\u001b[1;33m)\u001b[0m\u001b[1;33m\u001b[0m\u001b[1;33m\u001b[0m\u001b[0m\n\u001b[0m",
      "\u001b[1;31mTypeError\u001b[0m: 'Box' object is not subscriptable"
     ]
    }
   ],
   "source": [
    "def h(p, q):\n",
    "    print (p, q)\n",
    "\n",
    "a = widgets.Box(\n",
    "    [\n",
    "        widgets.Label(value='Rut alumno 1:'),\n",
    "        widgets.Text(\n",
    "            value='',\n",
    "            placeholder='Ej: 20145753-3',\n",
    "            description='',\n",
    "            disabled=False\n",
    "        )\n",
    "    ]\n",
    ")\n",
    "b = widgets.Box(\n",
    "    [\n",
    "        widgets.Label(value='Rut alumno 2:'),\n",
    "        widgets.Text(\n",
    "            value='',\n",
    "            placeholder='Ej: 20145753-3',\n",
    "            description='',\n",
    "            disabled=False\n",
    "        )\n",
    "    ]\n",
    ")\n",
    "display(a,b)\n",
    "\n",
    "interact(h, p=5, q = b[1])\n"
   ]
  },
  {
   "cell_type": "code",
   "execution_count": 62,
   "metadata": {},
   "outputs": [
    {
     "data": {
      "text/html": [
       "<div>\n",
       "<style scoped>\n",
       "    .dataframe tbody tr th:only-of-type {\n",
       "        vertical-align: middle;\n",
       "    }\n",
       "\n",
       "    .dataframe tbody tr th {\n",
       "        vertical-align: top;\n",
       "    }\n",
       "\n",
       "    .dataframe thead th {\n",
       "        text-align: right;\n",
       "    }\n",
       "</style>\n",
       "<table border=\"1\" class=\"dataframe\">\n",
       "  <thead>\n",
       "    <tr style=\"text-align: right;\">\n",
       "      <th></th>\n",
       "      <th>rut</th>\n",
       "      <th>apellidos</th>\n",
       "      <th>nombres</th>\n",
       "      <th>nombre completo</th>\n",
       "      <th>email</th>\n",
       "      <th>paralelo</th>\n",
       "    </tr>\n",
       "  </thead>\n",
       "  <tbody>\n",
       "    <tr>\n",
       "      <td>0</td>\n",
       "      <td>20211640</td>\n",
       "      <td>ALFARO MENDEZ</td>\n",
       "      <td>RODRIGO IGNACIO</td>\n",
       "      <td>RODRIGO IGNACIO ALFARO MENDEZ</td>\n",
       "      <td>rodrigo.alfaro@alumnos.ucn.cl</td>\n",
       "      <td>7</td>\n",
       "    </tr>\n",
       "    <tr>\n",
       "      <td>1</td>\n",
       "      <td>18579948</td>\n",
       "      <td>ANZA CONTRERAS</td>\n",
       "      <td>BELEN ANDREA BRIGETH</td>\n",
       "      <td>BELEN ANDREA BRIGETH ANZA CONTRERAS</td>\n",
       "      <td>belen.anza@alumnos.ucn.cl</td>\n",
       "      <td>7</td>\n",
       "    </tr>\n",
       "    <tr>\n",
       "      <td>2</td>\n",
       "      <td>18792653</td>\n",
       "      <td>BRACAMONTE IBACACHE</td>\n",
       "      <td>MARCO ANTONIO</td>\n",
       "      <td>MARCO ANTONIO BRACAMONTE IBACACHE</td>\n",
       "      <td>NaN</td>\n",
       "      <td>7</td>\n",
       "    </tr>\n",
       "    <tr>\n",
       "      <td>3</td>\n",
       "      <td>20212878</td>\n",
       "      <td>CALDERON ANATIVIA</td>\n",
       "      <td>ESTEBAN NICOLAS</td>\n",
       "      <td>ESTEBAN NICOLAS CALDERON ANATIVIA</td>\n",
       "      <td>esteban.calderon@alumnos.ucn.cl</td>\n",
       "      <td>7</td>\n",
       "    </tr>\n",
       "    <tr>\n",
       "      <td>4</td>\n",
       "      <td>19109941</td>\n",
       "      <td>CARRILLO DELGADO</td>\n",
       "      <td>FRANCO ANTONIO</td>\n",
       "      <td>FRANCO ANTONIO CARRILLO DELGADO</td>\n",
       "      <td>franco.carrillo@alumnos.ucn.cl</td>\n",
       "      <td>7</td>\n",
       "    </tr>\n",
       "  </tbody>\n",
       "</table>\n",
       "</div>"
      ],
      "text/plain": [
       "        rut            apellidos               nombres  \\\n",
       "0  20211640        ALFARO MENDEZ       RODRIGO IGNACIO   \n",
       "1  18579948       ANZA CONTRERAS  BELEN ANDREA BRIGETH   \n",
       "2  18792653  BRACAMONTE IBACACHE         MARCO ANTONIO   \n",
       "3  20212878    CALDERON ANATIVIA       ESTEBAN NICOLAS   \n",
       "4  19109941     CARRILLO DELGADO        FRANCO ANTONIO   \n",
       "\n",
       "                       nombre completo                            email  \\\n",
       "0        RODRIGO IGNACIO ALFARO MENDEZ    rodrigo.alfaro@alumnos.ucn.cl   \n",
       "1  BELEN ANDREA BRIGETH ANZA CONTRERAS        belen.anza@alumnos.ucn.cl   \n",
       "2    MARCO ANTONIO BRACAMONTE IBACACHE                              NaN   \n",
       "3    ESTEBAN NICOLAS CALDERON ANATIVIA  esteban.calderon@alumnos.ucn.cl   \n",
       "4      FRANCO ANTONIO CARRILLO DELGADO   franco.carrillo@alumnos.ucn.cl   \n",
       "\n",
       "   paralelo  \n",
       "0         7  \n",
       "1         7  \n",
       "2         7  \n",
       "3         7  \n",
       "4         7  "
      ]
     },
     "execution_count": 62,
     "metadata": {},
     "output_type": "execute_result"
    }
   ],
   "source": [
    "alumnos2 = pd.read_csv(\"Lista_asistencia.csv\")\n",
    "alumnos2.head()\n"
   ]
  },
  {
   "cell_type": "code",
   "execution_count": 64,
   "metadata": {},
   "outputs": [
    {
     "data": {
      "text/html": [
       "<div>\n",
       "<style scoped>\n",
       "    .dataframe tbody tr th:only-of-type {\n",
       "        vertical-align: middle;\n",
       "    }\n",
       "\n",
       "    .dataframe tbody tr th {\n",
       "        vertical-align: top;\n",
       "    }\n",
       "\n",
       "    .dataframe thead th {\n",
       "        text-align: right;\n",
       "    }\n",
       "</style>\n",
       "<table border=\"1\" class=\"dataframe\">\n",
       "  <thead>\n",
       "    <tr style=\"text-align: right;\">\n",
       "      <th></th>\n",
       "      <th>rut</th>\n",
       "      <th>apellidos</th>\n",
       "      <th>nombres</th>\n",
       "      <th>nombre completo</th>\n",
       "      <th>email</th>\n",
       "      <th>paralelo</th>\n",
       "    </tr>\n",
       "  </thead>\n",
       "  <tbody>\n",
       "    <tr>\n",
       "      <td>1</td>\n",
       "      <td>18579948</td>\n",
       "      <td>ANZA CONTRERAS</td>\n",
       "      <td>BELEN ANDREA BRIGETH</td>\n",
       "      <td>BELEN ANDREA BRIGETH ANZA CONTRERAS</td>\n",
       "      <td>belen.anza@alumnos.ucn.cl</td>\n",
       "      <td>7</td>\n",
       "    </tr>\n",
       "  </tbody>\n",
       "</table>\n",
       "</div>"
      ],
      "text/plain": [
       "        rut       apellidos               nombres  \\\n",
       "1  18579948  ANZA CONTRERAS  BELEN ANDREA BRIGETH   \n",
       "\n",
       "                       nombre completo                      email  paralelo  \n",
       "1  BELEN ANDREA BRIGETH ANZA CONTRERAS  belen.anza@alumnos.ucn.cl         7  "
      ]
     },
     "execution_count": 64,
     "metadata": {},
     "output_type": "execute_result"
    }
   ],
   "source": [
    "g = alumnos2.loc[alumnos2['rut'] == 18579948]\n",
    "g"
   ]
  },
  {
   "cell_type": "code",
   "execution_count": 84,
   "metadata": {},
   "outputs": [
    {
     "data": {
      "application/vnd.jupyter.widget-view+json": {
       "model_id": "eff2db50cb7e41be8f7b0b0e706b2095",
       "version_major": 2,
       "version_minor": 0
      },
      "text/plain": [
       "interactive(children=(Dropdown(description='Paralelo:', index=1, options=(('T1 - Italo Donoso', 1), ('T2 - Pab…"
      ]
     },
     "metadata": {},
     "output_type": "display_data"
    },
    {
     "data": {
      "text/plain": [
       "<function __main__.principal(par, passw, rut1='19135428', rut2='20415760')>"
      ]
     },
     "execution_count": 84,
     "metadata": {},
     "output_type": "execute_result"
    }
   ],
   "source": [
    "def principal(par, passw, rut1 = \"19135428\", rut2 = \"20415760\"):\n",
    "    #if passw == \"progra2020\":\n",
    "        print (rut1, rut2, par)\n",
    "        alumnos = pd.read_csv(\"Lista_asistencia.csv\")\n",
    "        #g = alumnos.where(alumnos['rut'] == rut1)\n",
    "        alumnos_del_paralelo = alumnos.loc[alumnos['paralelo'] == int(par)]\n",
    "        alumno1 = alumnos_del_paralelo.loc[alumnos_del_paralelo['rut'] == int(rut1)]\n",
    "        alumno2 = alumnos_del_paralelo.loc[alumnos_del_paralelo['rut'] == int(rut2)]\n",
    "        print(len(alumno1), len(alumno2))\n",
    "        if len(alumno1) == len(alumno2) == 1:\n",
    "            print(\"Ambos alumnos fueron encontrados en ese paralelo\")\n",
    "            print(alumno1.iloc[0][\"nombre completo\"].title(), \"y\", alumno2.iloc[0][\"nombre completo\"].title())\n",
    "        else:\n",
    "            print(\"Ingrese dos alumnos del paralelo T\" + str(par))\n",
    "        \n",
    "    #else:\n",
    "        print(\"Password incorrecta\")\n",
    "\n",
    "widgets.Label(value='Rut alumno 1:'),\n",
    "input1 = widgets.Text(\n",
    "        value='19135428',\n",
    "        placeholder='Ej: 20145753-3',\n",
    "        description='Rut alum 1: ',\n",
    "        disabled=False\n",
    "    )\n",
    "widgets.Label(value='Rut alum 2:'),\n",
    "input2 = widgets.Text(\n",
    "        value='20415760',\n",
    "        placeholder='Ej: 20145753-3',\n",
    "        description='Rut alum 2: ',\n",
    "        disabled=False\n",
    "    )\n",
    "\n",
    "paralelo = widgets.Text(\n",
    "        value='',\n",
    "        placeholder='Ej: 20145753-3',\n",
    "        description='Rut alum 2: ',\n",
    "        disabled=False\n",
    "    )\n",
    "\n",
    "paralelo = widgets.Dropdown(\n",
    "    options=[('T1 - Italo Donoso', 1), ('T2 - Pablo Julio', 2), ('T3 - Jordanys Rodriguez', 3)],\n",
    "    value=2,\n",
    "    description='Paralelo:',\n",
    ")\n",
    "\n",
    "clave = widgets.Password(\n",
    "    value='',\n",
    "    placeholder='Ingrese clave',\n",
    "    description='Clave:',\n",
    "    disabled=False\n",
    ")\n",
    "\n",
    "#display(a,b,c)\n",
    "\n",
    "interact_manual(principal, rut1=input1, rut2 = input2, par = paralelo, passw=clave)\n"
   ]
  },
  {
   "cell_type": "code",
   "execution_count": null,
   "metadata": {},
   "outputs": [],
   "source": [
    "19135428\n",
    "20415760"
   ]
  }
 ],
 "metadata": {
  "kernelspec": {
   "display_name": "Python 3",
   "language": "python",
   "name": "python3"
  },
  "language_info": {
   "codemirror_mode": {
    "name": "ipython",
    "version": 3
   },
   "file_extension": ".py",
   "mimetype": "text/x-python",
   "name": "python",
   "nbconvert_exporter": "python",
   "pygments_lexer": "ipython3",
   "version": "3.7.4"
  }
 },
 "nbformat": 4,
 "nbformat_minor": 2
}
