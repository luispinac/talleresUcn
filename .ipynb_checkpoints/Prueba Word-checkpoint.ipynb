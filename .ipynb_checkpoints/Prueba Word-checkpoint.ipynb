{
 "cells": [
  {
   "cell_type": "code",
   "execution_count": 6,
   "metadata": {},
   "outputs": [],
   "source": [
    "#!pip install docx2python\n",
    "from docx2python import docx2python\n",
    "import math\n",
    "import random"
   ]
  },
  {
   "cell_type": "markdown",
   "metadata": {},
   "source": [
    "doc_result = docx2python('word.docx')"
   ]
  },
  {
   "cell_type": "code",
   "execution_count": 7,
   "metadata": {},
   "outputs": [],
   "source": [
    "#doc_result.body"
   ]
  },
  {
   "cell_type": "code",
   "execution_count": 101,
   "metadata": {},
   "outputs": [],
   "source": [
    "doc_html_result = docx2python('Taller 2 - carrera de tortugas.docx', html = True)\n",
    "#doc_html_result.body"
   ]
  },
  {
   "cell_type": "code",
   "execution_count": 102,
   "metadata": {},
   "outputs": [],
   "source": [
    "unido = doc_html_result.body[0][0][0]\n",
    "#unido"
   ]
  },
  {
   "cell_type": "code",
   "execution_count": 103,
   "metadata": {},
   "outputs": [],
   "source": [
    "# for i in range(len(unido)):\n",
    "#     if unido[i].startswith(\"--\\t\"):\n",
    "#         unido[i] = unido[i].replace(\"--\\t\", \"<li>\")   \n",
    "#         unido[i] += \"</li>\"\n",
    "# unido"
   ]
  },
  {
   "cell_type": "code",
   "execution_count": 104,
   "metadata": {},
   "outputs": [
    {
     "name": "stdout",
     "output_type": "stream",
     "text": [
      "lineas a mantener 15 lineas totales 15\n",
      "choosing 3 random items from a list using random.sample() function\n",
      "[5, 11, 14, 10, 1, 0, 4, 6, 9, 2, 8, 7, 3, 12, 13]\n",
      "--\tSe debe poder elegir el número de competidores, el cuál debe estar entre {{R1-3}} y {{R5-8}}.\n",
      "--\tLos colores que deben tomar las tortugas pueden estar entre las siguientes (no necesariamente las debe tomar en ese orden):\n",
      "--\tblack, green, blue, purple, red, yellow, brown, pink, orange, gray, cyan.\n",
      "--\tSe deben realizar distintas carreras hasta que el usuario no desee jugar más.\n",
      "--\tSe debe poder apostar a una tortuga un monto determinado, el que va desde un mínimo de {{R1000-2000}} hasta {{R5000-10000}}.\n",
      "--\tEl usuario partirá con un monto inicial de {{R20000-40000}}.\n",
      "--\tA medida que el juego va avanzando el usuario va ganando o perdiendo dinero. Se debe ir llevando el conteo del monto total.\n",
      "--\tEl jugador no puede apostar todo su dinero, como máximo puede apostar el 50% de lo que tiene.\n",
      "--\tLas tortugas deben posicionarse en la pantalla una al lado de la otra.\n",
      "--\tLas tortugas deben ir y volver.\n",
      "--\tLa tortuga ganadora en cada carrera es la que llega primero a la línea de meta/inicio.\n",
      "--\tLa longitud de la pista debe ser de {{R400-600}}. Esa es la distancia que deben recorrer tanto de ida como de vuelta.\n",
      "--\tLa velocidad se debe definir de forma aleatoria para cada tortuga. Para esto puede ayudarse de la librería Random (revise documentación sobre la función random.randrange).\n",
      "--\tDeben guardar los resultados de las competencias en un archivo\n",
      "--\tEl tamaño de la ventana debe ser de 500 x 500\n",
      "Validacion --\tEl tamaño de la ventana debe ser de 500 x 500\n",
      "lineas a mantener 6 lineas totales 20\n",
      "choosing 3 random items from a list using random.sample() function\n",
      "[16, 17, 13, 4, 15, 7]\n",
      "--\tPorcentaje de veces que el usuario ganó.\n",
      "--\tNúmero de carreras que se jugaron\n",
      "--\tColor de la tortuga que más ganó\n",
      "--\tTortuga que alcanzó la mayor velocidad en la primera carrera\n",
      "--\tVelocidad promedio alcanzada por las tortugas en la última carrera.\n",
      "--\tDistancia total recorrida por todas las tortugas en todas las carreras\n",
      "--\tDistancia promedio recorrida por todas las tortugas entre todas las carreras\n",
      "--\tTortugas que ganaron más de 2 veces\n",
      "--\tColor de la tortuga que más llegó en último lugar\n",
      "--\tCantidad de dinero total apostado por el jugador\n",
      "--\tDinero con el que quedó el jugador al final de todas las carreras\n",
      "--\tMonto total de dinero perdido por el jugador (considerar sólo las veces que perdió)\n",
      "--\tMonto total de dinero ganado por el jugador (considerar sólo las veces que ganó)\n",
      "--\tMayor monto apostado en una sola carrera\n",
      "--\tCantidad de veces en que el jugador apostó más de 4000.\n",
      "--\tPromedio de dinero apostado por el jugador.\n",
      "--\tNúmero de la carrera más lenta. Considere la carrera más lenta aquella que tuvo el promedio de velocidades menor.\n",
      "--\tNúmero de la carrera más reñida. Considere la carrera más reñida aquella que la diferencia en distancia entre el primero y segundo lugar fue la menor.\n",
      "--\tNúmero de la carrera más rápida. Considere la carrera más rápida aquella que tuvo el promedio de velocidades mayor.\n",
      "--\tNúmero de la carrera más desigual. Considere la carrera más desigual aquella en que el ganador y el último lugar tuvieron la mayor distancia.\n",
      "Validacion --\tNúmero de la carrera más desigual. Considere la carrera más desigual aquella en que el ganador y el último lugar tuvieron la mayor distancia.\n",
      "################## SE IMPRIME ##################\n"
     ]
    },
    {
     "data": {
      "text/plain": [
       "['{{c}}<font size=\"28\"><b><u>Taller 2 de programación: Carrera de tortugas</u></b></font>{{c.}}',\n",
       " 'En el presente taller debe implementar en Python una carrera de tortugas. Para ello utilizará la librería Turtle vista en clases. Su juego debe cumplir las siguientes características:',\n",
       " '{{L15-15}}',\n",
       " '--\\tSe debe poder elegir el número de competidores, el cuál debe estar entre {{R1-3}} y {{R5-8}}.',\n",
       " '--\\tLos colores que deben tomar las tortugas pueden estar entre las siguientes (no necesariamente las debe tomar en ese orden):',\n",
       " '--\\tblack, green, blue, purple, red, yellow, brown, pink, orange, gray, cyan.',\n",
       " '--\\tSe deben realizar distintas carreras hasta que el usuario no desee jugar más.',\n",
       " '--\\tSe debe poder apostar a una tortuga un monto determinado, el que va desde un mínimo de {{R1000-2000}} hasta {{R5000-10000}}.',\n",
       " '--\\tEl usuario partirá con un monto inicial de {{R20000-40000}}.',\n",
       " '--\\tA medida que el juego va avanzando el usuario va ganando o perdiendo dinero. Se debe ir llevando el conteo del monto total.',\n",
       " '--\\tEl jugador no puede apostar todo su dinero, como máximo puede apostar el 50% de lo que tiene.',\n",
       " '--\\tLas tortugas deben posicionarse en la pantalla una al lado de la otra.',\n",
       " '--\\tLas tortugas deben ir y volver.',\n",
       " '--\\tLa tortuga ganadora en cada carrera es la que llega primero a la línea de meta/inicio.',\n",
       " '--\\tLa longitud de la pista debe ser de {{R400-600}}. Esa es la distancia que deben recorrer tanto de ida como de vuelta.',\n",
       " '--\\tLa velocidad se debe definir de forma aleatoria para cada tortuga. Para esto puede ayudarse de la librería Random (revise documentación sobre la función random.randrange).',\n",
       " '--\\tDeben guardar los resultados de las competencias en un archivo',\n",
       " '--\\tEl tamaño de la ventana debe ser de 500 x 500',\n",
       " '{{E15-15}}',\n",
       " 'Al finalizar todas las carreras debe desplegar una serie de estadísticas:',\n",
       " '{{L6-20}}',\n",
       " '--\\tPorcentaje de veces que el usuario ganó.',\n",
       " '--\\tNúmero de carreras que se jugaron',\n",
       " '--\\tColor de la tortuga que más ganó',\n",
       " '--\\tTortuga que alcanzó la mayor velocidad en la primera carrera',\n",
       " '--\\tVelocidad promedio alcanzada por las tortugas en la última carrera.',\n",
       " '--\\tDistancia total recorrida por todas las tortugas en todas las carreras',\n",
       " '--\\tDistancia promedio recorrida por todas las tortugas entre todas las carreras',\n",
       " '--\\tTortugas que ganaron más de 2 veces',\n",
       " '--\\tColor de la tortuga que más llegó en último lugar',\n",
       " '--\\tCantidad de dinero total apostado por el jugador',\n",
       " '--\\tDinero con el que quedó el jugador al final de todas las carreras',\n",
       " '--\\tMonto total de dinero perdido por el jugador (considerar sólo las veces que perdió)',\n",
       " '--\\tMonto total de dinero ganado por el jugador (considerar sólo las veces que ganó)',\n",
       " '--\\tMayor monto apostado en una sola carrera',\n",
       " '--\\tCantidad de veces en que el jugador apostó más de 4000.',\n",
       " '--\\tPromedio de dinero apostado por el jugador.',\n",
       " '--\\tNúmero de la carrera más lenta. Considere la carrera más lenta aquella que tuvo el promedio de velocidades menor.',\n",
       " '--\\tNúmero de la carrera más reñida. Considere la carrera más reñida aquella que la diferencia en distancia entre el primero y segundo lugar fue la menor.',\n",
       " '--\\tNúmero de la carrera más rápida. Considere la carrera más rápida aquella que tuvo el promedio de velocidades mayor.',\n",
       " '--\\tNúmero de la carrera más desigual. Considere la carrera más desigual aquella en que el ganador y el último lugar tuvieron la mayor distancia.',\n",
       " '{{E6-20}}',\n",
       " 'Puede ver un video del resultado esperado en el siguiente enlace: www.ejemplo.com/resultado.',\n",
       " 'En el presente taller se darán 3 pistas para la resolución. Para ver cada una de ellas acceda al siguiente enlace en la fecha que se indica:',\n",
       " 'Pista 1: 20 de noviembre: <a href=\"http://www.ejemplo.com/pista_1\">www.ejemplo.com/pista_1</a>',\n",
       " 'Pista 2: 25 de noviembre: <a href=\"http://www.ejemplo.com/pista\">www.ejemplo.com/pista</a>_2',\n",
       " 'Pista 3: 29 de noviembre: <a href=\"http://www.ejemplo.com/pista\">www.ejemplo.com/pista</a>_3',\n",
       " 'Debe crear las siguientes funciones:',\n",
       " 'escribirTexto(texto): Despliega encima de la pantalla un texto con el resultado de la carrera',\n",
       " 'posicionarTortuga(tortuga): Les da la posición inicial a las tortugas',\n",
       " 'buscarGanador(lista): Dada una lista que recibe indica cuál fue la tortuga ganadora de una carrera',\n",
       " 'guardarArchivo(nombre, OTROS): Guarda los datos de estadísticas para carrera.',\n",
       " '',\n",
       " '<b>Fecha de publicación: 01-10-2020</b>',\n",
       " '<b>Fecha de entrega: 31-10-2020</b>',\n",
       " '<b>Desarrollo en parejas.</b>',\n",
       " '']"
      ]
     },
     "execution_count": 104,
     "metadata": {},
     "output_type": "execute_result"
    }
   ],
   "source": [
    "def obtenerRangos(linea):\n",
    "    j = 3\n",
    "    rangoInicial = \"\"\n",
    "    while linea[j] != \"-\": #mientras que no se encuentre un guion vamos guardando la cifra del rango inicial\n",
    "        rangoInicial += linea[j]\n",
    "        j += 1\n",
    "    j += 1\n",
    "    rangoFinal = \"\"\n",
    "    while linea[j] != \"}\": #mientras que no se encuentre un guion vamos guardando la cifra del rango inicial\n",
    "        rangoFinal += linea[j]\n",
    "        j += 1\n",
    "    return int(rangoInicial), int(rangoFinal)\n",
    "\n",
    "lineasTotalesDocumento = len(unido)\n",
    "i = 0\n",
    "enLista = False\n",
    "nuevoDocumento = []\n",
    "while i < lineasTotalesDocumento:\n",
    "    if unido[i].startswith(\"{{L\"):\n",
    "        enLista = True\n",
    "        nuevoDocumento.append(\"<ul>\")\n",
    "        LineasAMantener, LineasTotales = obtenerRangos(unido[i])\n",
    "    elif unido[i].startswith(\"{{E\"):\n",
    "        enLista = False\n",
    "        nuevoDocumento.append(\"</ul>\")\n",
    "    elif enLista == False:\n",
    "        nuevoDocumento.append(unido[i] + \"<br>\")\n",
    "    else:\n",
    "        print(\"lineas a mantener\", LineasAMantener, \"lineas totales\", LineasTotales)\n",
    "        aList = [h for h in range(LineasTotales)]\n",
    "        print (\"choosing 3 random items from a list using random.sample() function\")\n",
    "        sampled_list = random.sample(aList, int(LineasAMantener))\n",
    "        print(sampled_list)\n",
    "        for j in range(LineasTotales):\n",
    "            print(unido[i+j])\n",
    "            if j in sampled_list:\n",
    "                nuevoDocumento.append(\"<li>\" + unido[i+j] + \"</li>\")\n",
    "        i += (LineasTotales - 1)\n",
    "        print(\"Validacion\", unido[i])\n",
    "    i += 1\n",
    "print(\"################## SE IMPRIME ##################\")\n",
    "unido"
   ]
  },
  {
   "cell_type": "code",
   "execution_count": 105,
   "metadata": {},
   "outputs": [],
   "source": [
    "# lineasTotalesDocumento = len(unido)\n",
    "# i = 0\n",
    "# while i < lineasTotalesDocumento:\n",
    "#     if unido[i].startswith(\"{{L\"):\n",
    "#         LineasAMantener = \"\"\n",
    "#         linea = unido[i]\n",
    "#         j = 3\n",
    "#         while linea[j] != \"-\": #mientras que no se encuentre un guion vamos guardando la cifra del rango inicial\n",
    "#             LineasAMantener += linea[j]\n",
    "#             j += 1\n",
    "#         j += 1\n",
    "#         LineasTotales = \"\"\n",
    "#         while linea[j] != \"}\": #mientras que no se encuentre un guion vamos guardando la cifra del rango inicial\n",
    "#             LineasTotales += linea[j]\n",
    "#             j += 1\n",
    "#         j += 1\n",
    "#         print(\"lineas a mantener\", LineasAMantener, \"lineas totales\", LineasTotales)\n",
    "#         aList = [h for h in range(int(LineasTotales))]\n",
    "#         print (\"choosing 3 random items from a list using random.sample() function\")\n",
    "#         sampled_list = random.sample(aList, int(LineasAMantener))\n",
    "#         sampled_list = sampled_list.sort()\n",
    "#         print(sampled_list)\n",
    "#         k = 0\n",
    "#         while k < int(LineasTotales):\n",
    "#             print(\"k\",k, i)\n",
    "#             print(unido[i+k])\n",
    "#             if k not in sampled_list:\n",
    "#                 del unido[i+k]\n",
    "#             k -= 1\n",
    "#                 #i += 1\n",
    "#             k += 1\n",
    "#     i += 1\n",
    "    \n",
    "# unido"
   ]
  },
  {
   "cell_type": "code",
   "execution_count": 106,
   "metadata": {},
   "outputs": [],
   "source": [
    "concatenado = \"\".join(nuevoDocumento)"
   ]
  },
  {
   "cell_type": "code",
   "execution_count": 107,
   "metadata": {},
   "outputs": [
    {
     "data": {
      "text/plain": [
       "'{{c}}<font size=\"28\"><b><u>Taller 2 de programación: Carrera de tortugas</u></b></font>{{c.}}< /br>En el presente taller debe implementar en Python una carrera de tortugas. Para ello utilizará la librería Turtle vista en clases. Su juego debe cumplir las siguientes características:< /br><ul><li>--\\tSe debe poder elegir el número de competidores, el cuál debe estar entre {{R1-3}} y {{R5-8}}.</li><li>--\\tLos colores que deben tomar las tortugas pueden estar entre las siguientes (no necesariamente las debe tomar en ese orden):</li><li>--\\tblack, green, blue, purple, red, yellow, brown, pink, orange, gray, cyan.</li><li>--\\tSe deben realizar distintas carreras hasta que el usuario no desee jugar más.</li><li>--\\tSe debe poder apostar a una tortuga un monto determinado, el que va desde un mínimo de {{R1000-2000}} hasta {{R5000-10000}}.</li><li>--\\tEl usuario partirá con un monto inicial de {{R20000-40000}}.</li><li>--\\tA medida que el juego va avanzando el usuario va ganando o perdiendo dinero. Se debe ir llevando el conteo del monto total.</li><li>--\\tEl jugador no puede apostar todo su dinero, como máximo puede apostar el 50% de lo que tiene.</li><li>--\\tLas tortugas deben posicionarse en la pantalla una al lado de la otra.</li><li>--\\tLas tortugas deben ir y volver.</li><li>--\\tLa tortuga ganadora en cada carrera es la que llega primero a la línea de meta/inicio.</li><li>--\\tLa longitud de la pista debe ser de {{R400-600}}. Esa es la distancia que deben recorrer tanto de ida como de vuelta.</li><li>--\\tLa velocidad se debe definir de forma aleatoria para cada tortuga. Para esto puede ayudarse de la librería Random (revise documentación sobre la función random.randrange).</li><li>--\\tDeben guardar los resultados de las competencias en un archivo</li><li>--\\tEl tamaño de la ventana debe ser de 500 x 500</li></ul>Al finalizar todas las carreras debe desplegar una serie de estadísticas:< /br><ul><li>--\\tVelocidad promedio alcanzada por las tortugas en la última carrera.</li><li>--\\tTortugas que ganaron más de 2 veces</li><li>--\\tMayor monto apostado en una sola carrera</li><li>--\\tPromedio de dinero apostado por el jugador.</li><li>--\\tNúmero de la carrera más lenta. Considere la carrera más lenta aquella que tuvo el promedio de velocidades menor.</li><li>--\\tNúmero de la carrera más reñida. Considere la carrera más reñida aquella que la diferencia en distancia entre el primero y segundo lugar fue la menor.</li></ul>Puede ver un video del resultado esperado en el siguiente enlace: www.ejemplo.com/resultado.< /br>En el presente taller se darán 3 pistas para la resolución. Para ver cada una de ellas acceda al siguiente enlace en la fecha que se indica:< /br>Pista 1: 20 de noviembre: <a href=\"http://www.ejemplo.com/pista_1\">www.ejemplo.com/pista_1</a>< /br>Pista 2: 25 de noviembre: <a href=\"http://www.ejemplo.com/pista\">www.ejemplo.com/pista</a>_2< /br>Pista 3: 29 de noviembre: <a href=\"http://www.ejemplo.com/pista\">www.ejemplo.com/pista</a>_3< /br>Debe crear las siguientes funciones:< /br>escribirTexto(texto): Despliega encima de la pantalla un texto con el resultado de la carrera< /br>posicionarTortuga(tortuga): Les da la posición inicial a las tortugas< /br>buscarGanador(lista): Dada una lista que recibe indica cuál fue la tortuga ganadora de una carrera< /br>guardarArchivo(nombre, OTROS): Guarda los datos de estadísticas para carrera.< /br>< /br><b>Fecha de publicación: 01-10-2020</b>< /br><b>Fecha de entrega: 31-10-2020</b>< /br><b>Desarrollo en parejas.</b>< /br>< /br>'"
      ]
     },
     "execution_count": 107,
     "metadata": {},
     "output_type": "execute_result"
    }
   ],
   "source": [
    "concatenado"
   ]
  },
  {
   "cell_type": "code",
   "execution_count": 108,
   "metadata": {},
   "outputs": [
    {
     "name": "stdout",
     "output_type": "stream",
     "text": [
      "7\n",
      "7\n"
     ]
    }
   ],
   "source": [
    "for i in range(27,29):\n",
    "    texto_a_reemplazar = '<font size=\"'+str(i)+'\">'\n",
    "    maxim = 50\n",
    "    minim = 4\n",
    "    tmax = 12\n",
    "    tmin = 2\n",
    "    normalizado = ((i-minim)/(maxim -minim))*(tmax - tmin) + tmin\n",
    "    normalizado = math.floor(normalizado)\n",
    "    print(normalizado)\n",
    "    texto_nuevo = '<font size=\"'+str(normalizado)+'\">'\n",
    "    concatenado = concatenado.replace(texto_a_reemplazar, texto_nuevo)"
   ]
  },
  {
   "cell_type": "code",
   "execution_count": 109,
   "metadata": {},
   "outputs": [],
   "source": [
    "concatenado = concatenado.replace(\"{{c}}\", \"<center>\")\n",
    "concatenado = concatenado.replace(\"{{c.}}\", \"</center>\")"
   ]
  },
  {
   "cell_type": "code",
   "execution_count": 110,
   "metadata": {},
   "outputs": [
    {
     "data": {
      "text/plain": [
       "'<center><font size=\"7\"><b><u>Taller 2 de programación: Carrera de tortugas</u></b></font></center>< /br>En el presente taller debe implementar en Python una carrera de tortugas. Para ello utilizará la librería Turtle vista en clases. Su juego debe cumplir las siguientes características:< /br><ul><li>--\\tSe debe poder elegir el número de competidores, el cuál debe estar entre {{R1-3}} y {{R5-8}}.</li><li>--\\tLos colores que deben tomar las tortugas pueden estar entre las siguientes (no necesariamente las debe tomar en ese orden):</li><li>--\\tblack, green, blue, purple, red, yellow, brown, pink, orange, gray, cyan.</li><li>--\\tSe deben realizar distintas carreras hasta que el usuario no desee jugar más.</li><li>--\\tSe debe poder apostar a una tortuga un monto determinado, el que va desde un mínimo de {{R1000-2000}} hasta {{R5000-10000}}.</li><li>--\\tEl usuario partirá con un monto inicial de {{R20000-40000}}.</li><li>--\\tA medida que el juego va avanzando el usuario va ganando o perdiendo dinero. Se debe ir llevando el conteo del monto total.</li><li>--\\tEl jugador no puede apostar todo su dinero, como máximo puede apostar el 50% de lo que tiene.</li><li>--\\tLas tortugas deben posicionarse en la pantalla una al lado de la otra.</li><li>--\\tLas tortugas deben ir y volver.</li><li>--\\tLa tortuga ganadora en cada carrera es la que llega primero a la línea de meta/inicio.</li><li>--\\tLa longitud de la pista debe ser de {{R400-600}}. Esa es la distancia que deben recorrer tanto de ida como de vuelta.</li><li>--\\tLa velocidad se debe definir de forma aleatoria para cada tortuga. Para esto puede ayudarse de la librería Random (revise documentación sobre la función random.randrange).</li><li>--\\tDeben guardar los resultados de las competencias en un archivo</li><li>--\\tEl tamaño de la ventana debe ser de 500 x 500</li></ul>Al finalizar todas las carreras debe desplegar una serie de estadísticas:< /br><ul><li>--\\tVelocidad promedio alcanzada por las tortugas en la última carrera.</li><li>--\\tTortugas que ganaron más de 2 veces</li><li>--\\tMayor monto apostado en una sola carrera</li><li>--\\tPromedio de dinero apostado por el jugador.</li><li>--\\tNúmero de la carrera más lenta. Considere la carrera más lenta aquella que tuvo el promedio de velocidades menor.</li><li>--\\tNúmero de la carrera más reñida. Considere la carrera más reñida aquella que la diferencia en distancia entre el primero y segundo lugar fue la menor.</li></ul>Puede ver un video del resultado esperado en el siguiente enlace: www.ejemplo.com/resultado.< /br>En el presente taller se darán 3 pistas para la resolución. Para ver cada una de ellas acceda al siguiente enlace en la fecha que se indica:< /br>Pista 1: 20 de noviembre: <a href=\"http://www.ejemplo.com/pista_1\">www.ejemplo.com/pista_1</a>< /br>Pista 2: 25 de noviembre: <a href=\"http://www.ejemplo.com/pista\">www.ejemplo.com/pista</a>_2< /br>Pista 3: 29 de noviembre: <a href=\"http://www.ejemplo.com/pista\">www.ejemplo.com/pista</a>_3< /br>Debe crear las siguientes funciones:< /br>escribirTexto(texto): Despliega encima de la pantalla un texto con el resultado de la carrera< /br>posicionarTortuga(tortuga): Les da la posición inicial a las tortugas< /br>buscarGanador(lista): Dada una lista que recibe indica cuál fue la tortuga ganadora de una carrera< /br>guardarArchivo(nombre, OTROS): Guarda los datos de estadísticas para carrera.< /br>< /br><b>Fecha de publicación: 01-10-2020</b>< /br><b>Fecha de entrega: 31-10-2020</b>< /br><b>Desarrollo en parejas.</b>< /br>< /br>'"
      ]
     },
     "execution_count": 110,
     "metadata": {},
     "output_type": "execute_result"
    }
   ],
   "source": [
    "concatenado"
   ]
  },
  {
   "cell_type": "code",
   "execution_count": 111,
   "metadata": {},
   "outputs": [
    {
     "name": "stdout",
     "output_type": "stream",
     "text": [
      "3514\n",
      "{{R1-3}} \n",
      "Texto a reemplazar {{R1-3}}\n",
      "Rangos: 1 y 3\n",
      "{{R5-8}}.\n",
      "Texto a reemplazar {{R5-8}}\n",
      "Rangos: 5 y 8\n",
      "{{R1000-2\n",
      "Texto a reemplazar {{R1000-2000}}\n",
      "Rangos: 1000 y 2000\n",
      "{{R5000-1\n",
      "Texto a reemplazar {{R5000-10000}}\n",
      "Rangos: 5000 y 10000\n",
      "{{R20000-\n",
      "Texto a reemplazar {{R20000-40000}}\n",
      "Rangos: 20000 y 40000\n",
      "{{R400-60\n",
      "Texto a reemplazar {{R400-600}}\n",
      "Rangos: 400 y 600\n"
     ]
    },
    {
     "data": {
      "text/plain": [
       "'<center><font size=\"7\"><b><u>Taller 2 de programación: Carrera de tortugas</u></b></font></center>< /br>En el presente taller debe implementar en Python una carrera de tortugas. Para ello utilizará la librería Turtle vista en clases. Su juego debe cumplir las siguientes características:< /br><ul><li>--\\tSe debe poder elegir el número de competidores, el cuál debe estar entre 1 y 7.</li><li>--\\tLos colores que deben tomar las tortugas pueden estar entre las siguientes (no necesariamente las debe tomar en ese orden):</li><li>--\\tblack, green, blue, purple, red, yellow, brown, pink, orange, gray, cyan.</li><li>--\\tSe deben realizar distintas carreras hasta que el usuario no desee jugar más.</li><li>--\\tSe debe poder apostar a una tortuga un monto determinado, el que va desde un mínimo de 1530 hasta 5551.</li><li>--\\tEl usuario partirá con un monto inicial de 21579.</li><li>--\\tA medida que el juego va avanzando el usuario va ganando o perdiendo dinero. Se debe ir llevando el conteo del monto total.</li><li>--\\tEl jugador no puede apostar todo su dinero, como máximo puede apostar el 50% de lo que tiene.</li><li>--\\tLas tortugas deben posicionarse en la pantalla una al lado de la otra.</li><li>--\\tLas tortugas deben ir y volver.</li><li>--\\tLa tortuga ganadora en cada carrera es la que llega primero a la línea de meta/inicio.</li><li>--\\tLa longitud de la pista debe ser de 433. Esa es la distancia que deben recorrer tanto de ida como de vuelta.</li><li>--\\tLa velocidad se debe definir de forma aleatoria para cada tortuga. Para esto puede ayudarse de la librería Random (revise documentación sobre la función random.randrange).</li><li>--\\tDeben guardar los resultados de las competencias en un archivo</li><li>--\\tEl tamaño de la ventana debe ser de 500 x 500</li></ul>Al finalizar todas las carreras debe desplegar una serie de estadísticas:< /br><ul><li>--\\tVelocidad promedio alcanzada por las tortugas en la última carrera.</li><li>--\\tTortugas que ganaron más de 2 veces</li><li>--\\tMayor monto apostado en una sola carrera</li><li>--\\tPromedio de dinero apostado por el jugador.</li><li>--\\tNúmero de la carrera más lenta. Considere la carrera más lenta aquella que tuvo el promedio de velocidades menor.</li><li>--\\tNúmero de la carrera más reñida. Considere la carrera más reñida aquella que la diferencia en distancia entre el primero y segundo lugar fue la menor.</li></ul>Puede ver un video del resultado esperado en el siguiente enlace: www.ejemplo.com/resultado.< /br>En el presente taller se darán 3 pistas para la resolución. Para ver cada una de ellas acceda al siguiente enlace en la fecha que se indica:< /br>Pista 1: 20 de noviembre: <a href=\"http://www.ejemplo.com/pista_1\">www.ejemplo.com/pista_1</a>< /br>Pista 2: 25 de noviembre: <a href=\"http://www.ejemplo.com/pista\">www.ejemplo.com/pista</a>_2< /br>Pista 3: 29 de noviembre: <a href=\"http://www.ejemplo.com/pista\">www.ejemplo.com/pista</a>_3< /br>Debe crear las siguientes funciones:< /br>escribirTexto(texto): Despliega encima de la pantalla un texto con el resultado de la carrera< /br>posicionarTortuga(tortuga): Les da la posición inicial a las tortugas< /br>buscarGanador(lista): Dada una lista que recibe indica cuál fue la tortuga ganadora de una carrera< /br>guardarArchivo(nombre, OTROS): Guarda los datos de estadísticas para carrera.< /br>< /br><b>Fecha de publicación: 01-10-2020</b>< /br><b>Fecha de entrega: 31-10-2020</b>< /br><b>Desarrollo en parejas.</b>< /br>< /br>'"
      ]
     },
     "execution_count": 111,
     "metadata": {},
     "output_type": "execute_result"
    }
   ],
   "source": [
    "import random\n",
    "i = 0\n",
    "print(len(concatenado))\n",
    "while i < len(concatenado):\n",
    "    textoAReemplazar = \"\"\n",
    "    if concatenado[i] == '{': #detectamos primer caracter clave\n",
    "        textoAReemplazar += concatenado[i]\n",
    "        i += 1\n",
    "        if concatenado[i] == '{': #detectamos segundo caracter clave\n",
    "            print(concatenado[i-1:i+8])\n",
    "            textoAReemplazar += concatenado[i]\n",
    "            i += 1\n",
    "            if concatenado[i] == \"R\" or concatenado[i] == \"F\": #Si es R es real (entero), si es F es flotante\n",
    "                tipoReemplazo = concatenado[i] #guardamos el tipo de reemplazo para usarlo despues en el casteo\n",
    "                textoAReemplazar += concatenado[i]\n",
    "                i += 1\n",
    "                rangoInicial = \"\"\n",
    "                while concatenado[i] != \"-\": #mientras que no se encuentre un guion vamos guardando la cifra del rango inicial\n",
    "                    textoAReemplazar += concatenado[i]\n",
    "                    rangoInicial += concatenado[i] \n",
    "                    i += 1\n",
    "                textoAReemplazar += concatenado[i]\n",
    "                i += 1\n",
    "                rangoFinal = \"\"\n",
    "                while concatenado[i] != \"}\": #mientras que no se encuentre un corchete vamos guardando la cifra del rango final\n",
    "                    textoAReemplazar += concatenado[i]\n",
    "                    rangoFinal += concatenado[i] \n",
    "                    i += 1\n",
    "                textoAReemplazar += concatenado[i]\n",
    "                textoAReemplazar += \"}\"\n",
    "                if tipoReemplazo == \"R\":\n",
    "                    numeroAleatorio = random.randrange(int(rangoInicial), int(rangoFinal))\n",
    "                else:\n",
    "                    numeroAleatorio = random.randrange(float(rangoInicial), float(rangoFinal))\n",
    "                print(\"Texto a reemplazar\", textoAReemplazar)\n",
    "                print(\"Rangos:\", rangoInicial, \"y\", rangoFinal)\n",
    "                concatenado = concatenado.replace(textoAReemplazar, str(numeroAleatorio))\n",
    "                i = i - (len(textoAReemplazar) - len(str(numeroAleatorio))) #ajustamos la posicion i, ya que al hacer el reemplazo se desajusta\n",
    "    i += 1\n",
    "concatenado"
   ]
  },
  {
   "cell_type": "code",
   "execution_count": 112,
   "metadata": {},
   "outputs": [],
   "source": [
    "import os\n",
    "import sys\n",
    "import cgi\n",
    "import six\n",
    "#import cStringIO\n",
    "import logging\n",
    "\n",
    "import xhtml2pdf.pisa as pisa\n",
    "\n",
    "# Shortcut for dumping all logs to the screen\n",
    "#pisa.showLogging()\n",
    "\n",
    "# def dumpErrors(pdf, showLog=True):\n",
    "#     #if showLog and pdf.log:\n",
    "#     #    for mode, line, msg, code in pdf.log:\n",
    "#     #        print \"%s in line %d: %s\" % (mode, line, msg)\n",
    "#     #if pdf.warn:\n",
    "#     #    print \"*** %d WARNINGS OCCURED\" % pdf.warn\n",
    "#     if pdf.err:\n",
    "#         print (\"*** %d ERRORS OCCURED\" % pdf.err)\n",
    "\n",
    "def testSimple(\n",
    "    data=\"\"\"Hello <b>World</b><br/><img src=\"https://i.stack.imgur.com/T15Ql.jpg\"/>\"\"\",\n",
    "    dest=\"test.pdf\"):\n",
    "\n",
    "    \"\"\"\n",
    "    Simple test showing how to create a PDF file from\n",
    "    PML Source String. Also shows errors and tries to start\n",
    "    the resulting PDF\n",
    "    \"\"\"\n",
    "\n",
    "    pdf = pisa.CreatePDF(\n",
    "        six.StringIO(data),\n",
    "        open(dest, \"wb\")\n",
    "        )\n",
    "\n",
    "    if pdf.err:\n",
    "        dumpErrors(pdf)\n",
    "    else:\n",
    "        pisa.startViewer(dest)\n",
    "        \n",
    "testSimple(concatenado, \"test2.pdf\")"
   ]
  },
  {
   "cell_type": "code",
   "execution_count": null,
   "metadata": {},
   "outputs": [],
   "source": []
  }
 ],
 "metadata": {
  "kernelspec": {
   "display_name": "Python 3",
   "language": "python",
   "name": "python3"
  },
  "language_info": {
   "codemirror_mode": {
    "name": "ipython",
    "version": 3
   },
   "file_extension": ".py",
   "mimetype": "text/x-python",
   "name": "python",
   "nbconvert_exporter": "python",
   "pygments_lexer": "ipython3",
   "version": "3.7.4"
  }
 },
 "nbformat": 4,
 "nbformat_minor": 2
}
